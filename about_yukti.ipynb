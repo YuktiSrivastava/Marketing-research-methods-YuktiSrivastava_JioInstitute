{
 "cells": [
  {
   "cell_type": "code",
   "execution_count": null,
   "id": "3c84a644",
   "metadata": {},
   "outputs": [],
   "source": [
    "import streamlit as st\n",
    "\n",
    "st.set_page_config(page_title=\"About Yukti\", page_icon=\":sparkles:\", layout=\"wide\")\n",
    "\n",
    "st.title(\"Welcome to Yukti's Space! 🚀\")\n",
    "\n",
    "st.markdown(\n",
    "    '''\n",
    "    Hi there! I'm **Yukti Srivastava**, a passionate digital marketer, content creator, and brand strategist. \n",
    "    I love exploring the intersection of marketing, technology, and consumer behavior. Let's connect and create something amazing together!\n",
    "\n",
    "    - 📍 Based in Navi Mumbai (originally from Lucknow) 🇮🇳\n",
    "    - 🎓 Pursuing PGP in Digital Media & Marketing Communication at Jio Institute\n",
    "    - 📊 Former Media Planner at RestaurantGrades\n",
    "    - 📈 Passionate about brand marketing, finance, and strategy\n",
    "    - 🎥 Content Creator with 10K+ followers on Instagram\n",
    "    - 🌱 Exploring sustainable and innovative business ideas\n",
    "\n",
    "    Follow me on my journey:\n",
    "    - 📸 Instagram: [@aboutyukti](https://www.instagram.com/aboutyukti)\n",
    "    - 📹 YouTube: [@aboutyukti](https://www.youtube.com/@aboutyukti)\n",
    "    - 💼 LinkedIn: [Yukti Srivastava](https://www.linkedin.com/in/yukti-srivastava/)\n",
    "    '''\n",
    ")\n",
    "\n",
    "st.success(\"Let's collaborate and build impactful brands together! 💡\")\n"
   ]
  }
 ],
 "metadata": {},
 "nbformat": 4,
 "nbformat_minor": 5
}